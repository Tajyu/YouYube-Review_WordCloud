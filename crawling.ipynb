{
  "nbformat": 4,
  "nbformat_minor": 0,
  "metadata": {
    "colab": {
      "name": "crawling.ipynb",
      "provenance": [],
      "collapsed_sections": [],
      "authorship_tag": "ABX9TyNPtM9t34bJfN/7n18FgE6J",
      "include_colab_link": true
    },
    "kernelspec": {
      "name": "python3",
      "display_name": "Python 3"
    },
    "language_info": {
      "name": "python"
    }
  },
  "cells": [
    {
      "cell_type": "markdown",
      "metadata": {
        "id": "view-in-github",
        "colab_type": "text"
      },
      "source": [
        "<a href=\"https://colab.research.google.com/github/Tajyu/YouYube-Review_WordCloud/blob/main/crawling.ipynb\" target=\"_parent\"><img src=\"https://colab.research.google.com/assets/colab-badge.svg\" alt=\"Open In Colab\"/></a>"
      ]
    },
    {
      "cell_type": "markdown",
      "source": [
        "### 크롬드라이버 자신의 크롬 버젼에 맞게 설치\n",
        "### 작업 폴더에 추가.\n",
        "### 모든 코드는 VScode에서.py로 실행가능."
      ],
      "metadata": {
        "id": "cgkuv0rws6fu"
      }
    },
    {
      "cell_type": "code",
      "execution_count": null,
      "metadata": {
        "id": "6UqxPoeYskkW"
      },
      "outputs": [],
      "source": [
        "from selenium import webdriver\n",
        "from selenium.webdriver.common.keys import Keys \n",
        "import time \n",
        "\n",
        "# chromedriver.exe을 자신의 버전에 맞게 설치후 같은 폴더에 추가.\n",
        "driver = webdriver.Chrome('chromedriver.exe')\n",
        "driver.get('유튜브 주소')\n",
        "\n",
        "time.sleep(2)\n",
        "\n",
        "# 1초라는 시간을 두고 100번 스크롤 다운\n",
        "e = driver.find_element_by_tag_name('body')\n",
        "for i in range(100): \n",
        "  e.send_keys(Keys.PAGE_DOWN) \n",
        "  time.sleep(1)\n",
        "\n",
        "users = []\n",
        "\n",
        "for i in range(950):\n",
        "  try : \n",
        "    e = driver.find_elements_by_css_selector('yt-formatted-string#content-text')[i].text # \"여기 안에 댓글이나 닉네임 주소 넣으면 된다.\"\n",
        "    print(e)\n",
        "    users.append(e)\n",
        "  except : \n",
        "    pass\n",
        "print(e)\n",
        "\n",
        "with open('review.csv', 'w', encoding='utf-8') as f:\n",
        "  for i in users:\n",
        "    f.write(i + '\\n')\n"
      ]
    }
  ]
}