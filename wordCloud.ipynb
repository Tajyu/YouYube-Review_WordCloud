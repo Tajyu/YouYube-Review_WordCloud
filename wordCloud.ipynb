{
  "nbformat": 4,
  "nbformat_minor": 0,
  "metadata": {
    "colab": {
      "name": "wordCloud.ipynb",
      "provenance": [],
      "collapsed_sections": [],
      "authorship_tag": "ABX9TyMfHkZ/0z/fhyL4f1ZM/eMI",
      "include_colab_link": true
    },
    "kernelspec": {
      "name": "python3",
      "display_name": "Python 3"
    },
    "language_info": {
      "name": "python"
    }
  },
  "cells": [
    {
      "cell_type": "markdown",
      "metadata": {
        "id": "view-in-github",
        "colab_type": "text"
      },
      "source": [
        "<a href=\"https://colab.research.google.com/github/Tajyu/YouYube-Review_WordCloud/blob/main/wordCloud.ipynb\" target=\"_parent\"><img src=\"https://colab.research.google.com/assets/colab-badge.svg\" alt=\"Open In Colab\"/></a>"
      ]
    },
    {
      "cell_type": "markdown",
      "source": [
        "### crawling 파일 실행후 현재 파일 실행해야함."
      ],
      "metadata": {
        "id": "g00cXlVCtVGB"
      }
    },
    {
      "cell_type": "code",
      "execution_count": null,
      "metadata": {
        "id": "87_2K0WttNKE"
      },
      "outputs": [],
      "source": [
        "from wordcloud import WordCloud, STOPWORDS\n",
        "import matplotlib.pyplot as plt\n",
        "\n",
        "# 한글 폰트 패스로 지정\n",
        "import matplotlib.font_manager as fm\n",
        "import re\n",
        "import collections\n",
        "\n",
        "text = \"\"\"크롤링 한 댓글들을 메모장에 복사후 여기에 입력.\"\"\"\n",
        "wc1 = WordCloud(max_font_size=200, font_path=r'C:\\Users\\Hun\\AppData\\Local\\Microsoft\\Windows\\Fonts\\D2Coding-Ver1.3.2-20180524.ttc',\n",
        "                background_color='white', width=800, height=800)\n",
        "wc1.generate(text)\n",
        "\n",
        "plt.figure(figsize=(10, 8))\n",
        "plt.imshow(wc1)\n",
        "plt.tight_layout(pad=0)\n",
        "plt.axis('off')\n",
        "plt.show()\n"
      ]
    }
  ]
}